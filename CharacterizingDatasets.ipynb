{
 "cells": [
  {
   "cell_type": "code",
   "execution_count": 2,
   "metadata": {},
   "outputs": [],
   "source": [
    "import os\n",
    "import numpy as np\n",
    "import json\n",
    "\n",
    "activity_list = [\n",
    "\"brushing_teeth\",\n",
    "\"showering\",\n",
    "\"breakfast\",\n",
    "\"dinner\",\n",
    "\"computer_work\",\n",
    "\"lunch\",\n",
    "\"cleaning\",\n",
    "\"laundry\",\n",
    "\"leave_home\",\n",
    "\"come_home\",\n",
    "\"socializing\",\n",
    "\"taking_medication\",\n",
    "\"watching_tv\",\n",
    "\"vaccuum_cleaning\",\n",
    "\"reading\",\n",
    "\"going_to_the_bathroom\",\n",
    "\"getting_dressed\",\n",
    "\"kitchen_cleaning\",\n",
    "\"take_out_trash\",\n",
    "\"wash_dishes\",\n",
    "\"playing_music\",\n",
    "\"listening_to_music\"]"
   ]
  },
  {
   "cell_type": "code",
   "execution_count": 16,
   "metadata": {},
   "outputs": [
    {
     "name": "stdout",
     "output_type": "stream",
     "text": [
      "Found 60 days in data/personaWithoutClothesAllObj/persona4.\n",
      "Found 60 days in data/personaWithoutClothesAllObj/persona0.\n",
      "Found 60 days in data/personaWithoutClothesAllObj/persona2.\n",
      "Found 60 days in data/personaWithoutClothesAllObj/persona1.\n",
      "Found 60 days in data/personaWithoutClothesAllObj/persona3.\n"
     ]
    }
   ],
   "source": [
    "dataset_root = 'data/personaWithoutClothesAllObj'\n",
    "dataset_dirs = [os.path.join(dataset_root, d) for d in os.listdir(dataset_root)]\n",
    "\n",
    "for dataset_dir in dataset_dirs:\n",
    "    activity_stats = {'data': {'count':{a:0 for a in activity_list}, 'count_days':{a:0 for a in activity_list}, 'st':{a:[] for a in activity_list}, 'et':{a:[] for a in activity_list}}}\n",
    "    script_usage_lines = open(os.path.join(dataset_dir,'script_usage.txt')).readlines()\n",
    "    activities_on_day = set()\n",
    "    prev_end = -1\n",
    "    num_days = 1\n",
    "    for entry in script_usage_lines:\n",
    "        if ';' not in entry:\n",
    "            continue\n",
    "        activity, script, time_st, time_end = entry.split(';')\n",
    "        time_st = float(time_st)\n",
    "        time_end = float(time_end)\n",
    "        if time_st < prev_end:\n",
    "            for act in activities_on_day:\n",
    "                activity_stats['data']['count_days'][act] += 1\n",
    "                activities_on_day = set()\n",
    "            num_days += 1\n",
    "        activities_on_day.add(activity)\n",
    "        activity_stats['data']['count'][activity] += 1\n",
    "        activity_stats['data']['st'][activity].append(time_st)\n",
    "        activity_stats['data']['et'][activity].append(time_end)\n",
    "        prev_end = time_end\n",
    "    print(f'Found {num_days} days in {dataset_dir}.')\n",
    "    activity_stats['prob_days'] = {act:activity_stats['data']['count_days'][act]/num_days for act in activity_list}\n",
    "    activity_stats['stdev_st'] = {act:np.std(activity_stats['data']['st'][act]) for act in activity_list}\n",
    "    activity_stats['stdev_et'] = {act:np.std(activity_stats['data']['et'][act]) for act in activity_list}\n",
    "    for k,v in activity_stats['stdev_st'].items():\n",
    "        if np.isnan(v): activity_stats['stdev_st'][k]=-1\n",
    "    for k,v in activity_stats['stdev_et'].items():\n",
    "        if np.isnan(v): activity_stats['stdev_et'][k]=-1\n",
    "    json.dump(activity_stats, open(os.path.join(dataset_dir,'activity_stats.json'), 'w'), indent=4)"
   ]
  },
  {
   "cell_type": "code",
   "execution_count": null,
   "metadata": {},
   "outputs": [],
   "source": []
  }
 ],
 "metadata": {
  "kernelspec": {
   "display_name": "Python 3.8.12 ('pyml')",
   "language": "python",
   "name": "python3"
  },
  "language_info": {
   "codemirror_mode": {
    "name": "ipython",
    "version": 3
   },
   "file_extension": ".py",
   "mimetype": "text/x-python",
   "name": "python",
   "nbconvert_exporter": "python",
   "pygments_lexer": "ipython3",
   "version": "3.8.12"
  },
  "orig_nbformat": 4,
  "vscode": {
   "interpreter": {
    "hash": "6f2dbfa5ef75a9144d7b0485e8c79d6707cb4300dbf38d3b3596c375ba449bc0"
   }
  }
 },
 "nbformat": 4,
 "nbformat_minor": 2
}
