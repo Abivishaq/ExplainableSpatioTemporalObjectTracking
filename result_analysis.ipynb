{
 "cells": [
  {
   "cell_type": "code",
   "execution_count": 2,
   "metadata": {},
   "outputs": [],
   "source": [
    "import os\n",
    "import numpy as np\n",
    "import json"
   ]
  },
  {
   "cell_type": "code",
   "execution_count": 4,
   "metadata": {},
   "outputs": [
    {
     "data": {
      "text/plain": [
       "{'FremenStateConditioned': {'precision': [0.0,\n",
       "   0.3150442477844243,\n",
       "   0.24706207659202511,\n",
       "   0.22732576641465016,\n",
       "   0.22701284094019306,\n",
       "   0.23146521433509676,\n",
       "   0.24184457728354622,\n",
       "   0.2526069909059728,\n",
       "   0.26417715312873286,\n",
       "   0.2750822038647042,\n",
       "   0.28492239467758973,\n",
       "   0.2937592751689643],\n",
       "  'recall': [0.0,\n",
       "   0.39923101569497943,\n",
       "   0.4245664053178944,\n",
       "   0.4134671039906351,\n",
       "   0.3956869792491705,\n",
       "   0.37799454884304695,\n",
       "   0.36443186204934025,\n",
       "   0.35440074906201124,\n",
       "   0.34789626600517426,\n",
       "   0.34193998604190234,\n",
       "   0.33466654264595047,\n",
       "   0.3282709260702513],\n",
       "  'destination_accuracy': [0.0,\n",
       "   0.25664851008962963,\n",
       "   0.28415300546178046,\n",
       "   0.29596758633767345,\n",
       "   0.2937428524731662,\n",
       "   0.2867594319306455,\n",
       "   0.28117359413058207,\n",
       "   0.27738764044813957,\n",
       "   0.27536855697718554,\n",
       "   0.2716578606309574,\n",
       "   0.26611478001947314,\n",
       "   0.26123767129174746]},\n",
       " 'LastSeenAndStaticSemantic': {'precision': [0.7083333331365741,\n",
       "   0.13223540808784467,\n",
       "   0.08131638516426497,\n",
       "   0.07150916784189655,\n",
       "   0.07923269391147807,\n",
       "   0.0834307376400778,\n",
       "   0.08334667734178451,\n",
       "   0.0827773659500121,\n",
       "   0.08848848004043507,\n",
       "   0.09404947626468865,\n",
       "   0.10070485295300922,\n",
       "   0.10785484063498638],\n",
       "  'recall': [0.05688789737742581,\n",
       "   0.17494392822588986,\n",
       "   0.22190544072015297,\n",
       "   0.2934593864534559,\n",
       "   0.3569678157140535,\n",
       "   0.37885525749316395,\n",
       "   0.4018787800777152,\n",
       "   0.4312968164773816,\n",
       "   0.451307435702351,\n",
       "   0.46276542717390984,\n",
       "   0.46246860756966807,\n",
       "   0.47316051322170494],\n",
       "  'destination_accuracy': [0.0167317345227723,\n",
       "   0.08779237423790077,\n",
       "   0.12900926585764783,\n",
       "   0.1624541771162458,\n",
       "   0.20029406959516227,\n",
       "   0.21331229378732858,\n",
       "   0.2297001672874549,\n",
       "   0.24754213483030177,\n",
       "   0.25729043365863646,\n",
       "   0.268368059015977,\n",
       "   0.2684401451017824,\n",
       "   0.2772104390319378]},\n",
       " 'ours': {'precision': [0.33429616791062666,\n",
       "   0.3138929874941627,\n",
       "   0.3210832815040126,\n",
       "   0.33666362457176624,\n",
       "   0.3544141526347095,\n",
       "   0.36710346176240755,\n",
       "   0.37837246609138825,\n",
       "   0.3882538701799818,\n",
       "   0.39706504408786486,\n",
       "   0.40541546477936014,\n",
       "   0.41309255078859536,\n",
       "   0.4199560464637271],\n",
       "  'recall': [0.3227365681281413,\n",
       "   0.4316992416905047,\n",
       "   0.44975053456450703,\n",
       "   0.45076853816617846,\n",
       "   0.45166911724368564,\n",
       "   0.4487639267415554,\n",
       "   0.44515935314831134,\n",
       "   0.4412843320828279,\n",
       "   0.4377129739211405,\n",
       "   0.4343535041354427,\n",
       "   0.4312157008634315,\n",
       "   0.428093450872789],\n",
       "  'destination_accuracy': [0.2758877114643788,\n",
       "   0.3583253230756169,\n",
       "   0.36786251682552124,\n",
       "   0.3708277059589363,\n",
       "   0.37363175951397726,\n",
       "   0.37192177114499925,\n",
       "   0.36970788830076073,\n",
       "   0.3668851435688192,\n",
       "   0.36428853258568406,\n",
       "   0.3617452563704712,\n",
       "   0.359129383311844,\n",
       "   0.35637601466228025]}}"
      ]
     },
     "execution_count": 4,
     "metadata": {},
     "output_type": "execute_result"
    }
   ],
   "source": [
    "dir_out = 'visuals/all'\n",
    "with open(os.path.join(dir_out,'info.json')) as f:\n",
    "    info = json.load(f)\n",
    "info"
   ]
  },
  {
   "cell_type": "code",
   "execution_count": 9,
   "metadata": {},
   "outputs": [
    {
     "name": "stdout",
     "output_type": "stream",
     "text": [
      "{'FremenStateConditioned': {'precision': 0.2383585617579916, 'recall': 0.34021269874752963, 'destination_accuracy': 0.25418429081591504}, 'LastSeenAndStaticSemantic': {'precision': 0.142773284913921, 'recall': 0.3471581088505727, 'destination_accuracy': 0.19651210783692896}, 'ours': {'precision': 0.36913409318905016, 'recall': 0.4311006034632096, 'destination_accuracy': 0.3580490838986074}}\n",
      "{'FremenStateConditioned': {'precision': 0.0, 'recall': 0.0, 'destination_accuracy': 0.0}, 'LastSeenAndStaticSemantic': {'precision': 0.07150916784189655, 'recall': 0.05688789737742581, 'destination_accuracy': 0.0167317345227723}, 'ours': {'precision': 0.3138929874941627, 'recall': 0.3227365681281413, 'destination_accuracy': 0.2758877114643788}}\n",
      "{'FremenStateConditioned': {'precision': 0.3150442477844243, 'recall': 0.4245664053178944, 'destination_accuracy': 0.29596758633767345}, 'LastSeenAndStaticSemantic': {'precision': 0.7083333331365741, 'recall': 0.47316051322170494, 'destination_accuracy': 0.2772104390319378}, 'ours': {'precision': 0.4199560464637271, 'recall': 0.45166911724368564, 'destination_accuracy': 0.37363175951397726}}\n",
      "{'FremenStateConditioned': {'precision': 0.0766686816426124, 'recall': 0.10694146255858356, 'destination_accuracy': 0.07751274991178861}, 'LastSeenAndStaticSemantic': {'precision': 0.17122709501132327, 'recall': 0.12814255351462728, 'destination_accuracy': 0.07874153164139273}, 'ours': {'precision': 0.035251334518079026, 'recall': 0.033637212338717734, 'destination_accuracy': 0.025357440715426057}}\n"
     ]
    }
   ],
   "source": [
    "info_averages = {kk:{k:np.mean(v) for k,v in vv.items()} for kk,vv in info.items()}\n",
    "info_mins = {kk:{k:min(v) for k,v in vv.items()} for kk,vv in info.items()}\n",
    "info_maxs = {kk:{k:max(v) for k,v in vv.items()} for kk,vv in info.items()}\n",
    "info_stds = {kk:{k:np.std(v) for k,v in vv.items()} for kk,vv in info.items()}\n",
    "\n",
    "print(info_averages)\n",
    "print(info_mins)\n",
    "print(info_maxs)\n",
    "print(info_stds)\n",
    "methods = info.keys()"
   ]
  },
  {
   "cell_type": "code",
   "execution_count": 16,
   "metadata": {},
   "outputs": [
    {
     "name": "stdout",
     "output_type": "stream",
     "text": [
      "----- precision -----\n",
      "FremenStateConditioned    : 0.0000, 0.1617, 0.2384, 0.3150, 0.3150\n",
      "LastSeenAndStaticSemantic : 0.0715, -0.0285, 0.1428, 0.3140, 0.7083\n",
      "ours                      : 0.3139, 0.3339, 0.3691, 0.4044, 0.4200\n",
      "----- recall -----\n",
      "FremenStateConditioned    : 0.0000, 0.2333, 0.3402, 0.4472, 0.4246\n",
      "LastSeenAndStaticSemantic : 0.0569, 0.2190, 0.3472, 0.4753, 0.4732\n",
      "ours                      : 0.3227, 0.3975, 0.4311, 0.4647, 0.4517\n",
      "----- destination_accuracy -----\n",
      "FremenStateConditioned    : 0.0000, 0.1767, 0.2542, 0.3317, 0.2960\n",
      "LastSeenAndStaticSemantic : 0.0167, 0.1178, 0.1965, 0.2753, 0.2772\n",
      "ours                      : 0.2759, 0.3327, 0.3580, 0.3834, 0.3736\n"
     ]
    }
   ],
   "source": [
    "for res in ['precision', 'recall', 'destination_accuracy']:\n",
    "    print('-----',res,'-----')\n",
    "    for m in methods:\n",
    "        print('{} : {:.4f}, {:.4f}, {:.4f}, {:.4f}, {:.4f}'.format(m+' '*(25-len(m)), info_mins[m][res], info_averages[m][res]-info_stds[m][res], info_averages[m][res], info_averages[m][res]+info_stds[m][res], info_maxs[m][res]))\n"
   ]
  }
 ],
 "metadata": {
  "interpreter": {
   "hash": "832cd52359357d9b2e36ca317107eb4f8aacda672fb3f68478a1e2ac7d029cb5"
  },
  "kernelspec": {
   "display_name": "Python 3.9.7 ('.venv': venv)",
   "language": "python",
   "name": "python3"
  },
  "language_info": {
   "codemirror_mode": {
    "name": "ipython",
    "version": 3
   },
   "file_extension": ".py",
   "mimetype": "text/x-python",
   "name": "python",
   "nbconvert_exporter": "python",
   "pygments_lexer": "ipython3",
   "version": "3.9.7"
  },
  "orig_nbformat": 4
 },
 "nbformat": 4,
 "nbformat_minor": 2
}
