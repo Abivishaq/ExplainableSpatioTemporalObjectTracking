{
 "cells": [
  {
   "cell_type": "markdown",
   "metadata": {},
   "source": [
    "# This is a demo + test notebook for GraphTranslatorModule"
   ]
  },
  {
   "cell_type": "code",
   "execution_count": null,
   "metadata": {},
   "outputs": [],
   "source": [
    "%load_ext autoreload\n",
    "%autoreload 2"
   ]
  },
  {
   "cell_type": "code",
   "execution_count": null,
   "metadata": {},
   "outputs": [],
   "source": [
    "from GraphTranslatorModule import GraphTranslatorModule\n",
    "from pytorch_lightning import Trainer\n",
    "from pytorch_lightning.loggers import WandbLogger\n",
    "import torch\n",
    "from torch.nn import functional as F\n",
    "from pl_bolts.datasets import DummyDataset\n",
    "import random\n",
    "import numpy as np"
   ]
  },
  {
   "cell_type": "markdown",
   "metadata": {},
   "source": [
    "## A. This section is a primer for LightningModule"
   ]
  },
  {
   "cell_type": "markdown",
   "metadata": {},
   "source": [
    "### This is a lightning module instead of a torch.nn.Module. A LightningModule is equivalent to a pure PyTorch Module except it has added functionality. However, you can use it EXACTLY the same as you would a PyTorch Module."
   ]
  },
  {
   "cell_type": "markdown",
   "metadata": {},
   "source": [
    "net = GraphTranslatorModule()\n",
    "x = torch.randn(1, 1, 3, 3)\n",
    "out = net(x)"
   ]
  },
  {
   "cell_type": "markdown",
   "metadata": {},
   "source": [
    "trainer = Trainer(max_epochs=3)\n",
    "trainer.fit(net, torch.utils.data.DataLoader(DummyDataset((1,3,3),(1,), num_samples=100), num_workers=8))"
   ]
  },
  {
   "cell_type": "markdown",
   "metadata": {},
   "source": [
    "trainer.test(net, torch.utils.data.DataLoader(DummyDataset((1,3,3),(1,), num_samples=10), num_workers=8))"
   ]
  },
  {
   "cell_type": "markdown",
   "metadata": {},
   "source": [
    "## B. Dimension checks for the model functions"
   ]
  },
  {
   "cell_type": "markdown",
   "metadata": {},
   "source": [
    "### Test model with Dummy data"
   ]
  },
  {
   "cell_type": "code",
   "execution_count": null,
   "metadata": {},
   "outputs": [],
   "source": [
    "# class DummyClassificationDataset():\n",
    "#     def __init__(self, n_nodes, n_len, e_len, c_len, num_samples: int = 100):\n",
    "#         self.n_nodes = n_nodes\n",
    "#         self.n_len = n_len\n",
    "#         self.e_len = e_len\n",
    "#         self.c_len = c_len\n",
    "#         self.num_samples = num_samples\n",
    "    \n",
    "#     def __len__(self):\n",
    "#         return self.num_samples\n",
    "\n",
    "#     def __getitem__(self, idx: int):\n",
    "#         edges = torch.randn(self.n_nodes, self.n_nodes, self.e_len)\n",
    "#         nodes = torch.randn(self.n_nodes, self.n_len)\n",
    "#         context = torch.randn(self.c_len)\n",
    "#         y = torch.randn(self.n_nodes, self.n_nodes, self.e_len)\n",
    "#         return (edges.contiguous(), nodes.contiguous(), context.contiguous(), context.contiguous(), y.contiguous())\n",
    "\n",
    "# n_nodes = 5\n",
    "# n_len = 2\n",
    "# e_len = 3\n",
    "# c_len = 1\n",
    "# model = GraphTranslatorModule(num_nodes=n_nodes, node_feature_len=n_len, edge_feature_len=e_len, context_len=c_len)\n",
    "# dataset = DummyClassificationDataset(n_nodes, n_len, e_len, c_len)\n",
    "# dl = torch.utils.data.DataLoader(dataset, num_workers=8, batch_size=3)\n",
    "\n",
    "# trainer = Trainer(max_epochs=3, log_every_n_steps=1, flush_logs_every_n_steps=1)\n",
    "# trainer.fit(model, dl)"
   ]
  },
  {
   "cell_type": "markdown",
   "metadata": {},
   "source": [
    "### Test model with example graph and timestamp data"
   ]
  },
  {
   "cell_type": "code",
   "execution_count": null,
   "metadata": {},
   "outputs": [],
   "source": [
    "from Reader import read_data\n",
    "from analyzers import *\n",
    "import json\n",
    "\n",
    "class DataSplit():\n",
    "    def __init__(self, data):\n",
    "        self.data = data\n",
    "    def __len__(self):\n",
    "        return len(self.data)\n",
    "    def __getitem__(self, idx: int):\n",
    "        return self.data[idx]\n",
    "\n",
    "class SingleDataset():\n",
    "    def __init__(self, data_path: str = 'data/routines_1028/sample.json', classes_path: str = 'data/routines_1028/classes.json', test_perc = 0.2):\n",
    "        self._alldata = read_data(data_path = data_path, classes_path = classes_path)\n",
    "        print(len(self._alldata),' examples found in dataset.')\n",
    "        edges, nodes, context_curr, context_query, y = self._alldata[0]\n",
    "        self.n_nodes = edges.size()[1]\n",
    "        self.n_len = nodes.size()[1]\n",
    "        self.e_len = edges.size()[-1]\n",
    "        self.c_len = context_curr.size()[0]\n",
    "        random.shuffle(self._alldata)\n",
    "        num_test = int(round(test_perc*len(self._alldata)))\n",
    "        self.test = DataSplit(self._alldata[:num_test])\n",
    "        self.train = DataSplit(self._alldata[num_test:])\n",
    "        print(len(self.train),' examples in train split.')\n",
    "        print(len(self.test),' examples in test split.')\n",
    "        losses = torch.Tensor([0])\n",
    "        for d in self.train:\n",
    "            r = torch.randn(self.n_nodes, self.n_nodes, self.e_len)\n",
    "            random_out = torch.nn.Sigmoid()(r)\n",
    "            losses = losses + torch.nn.BCELoss()(random_out, d[4])\n",
    "        print(\"random loss : \", losses/len(self.train))\n",
    "\n",
    "d = SingleDataset()\n",
    "dl_train = torch.utils.data.DataLoader(d.train, num_workers=8, batch_size=10)\n",
    "dl_test = torch.utils.data.DataLoader(d.test, num_workers=8, batch_size=10)\n",
    "\n",
    "with open('data/routines_1028/classes.json', 'r') as f:\n",
    "    classes = json.load(f)\n",
    "\n",
    "logging_analyzers = [MeanLoss(), EdgeTypeLoss(classes['edges'])]\n",
    "model = GraphTranslatorModule(num_nodes=d.n_nodes, node_feature_len=d.n_len, edge_feature_len=d.e_len, context_len=d.c_len, train_analyzer=MeanLoss(), logging_analyzers=logging_analyzers)\n",
    "\n",
    "wandb_logger = WandbLogger()\n",
    "trainer = Trainer(max_epochs=25, logger=wandb_logger)\n",
    "trainer.fit(model, dl_train)\n",
    "trainer.test(model, dl_test)\n"
   ]
  },
  {
   "cell_type": "code",
   "execution_count": null,
   "metadata": {},
   "outputs": [],
   "source": []
  }
 ],
 "metadata": {
  "interpreter": {
   "hash": "a2494099ad36345242b6da11fc60f3e7f3d87cf26ba237a82612e243f5abafed"
  },
  "kernelspec": {
   "display_name": "Python 3.6.9 64-bit ('.venv': venv)",
   "name": "python3"
  },
  "language_info": {
   "codemirror_mode": {
    "name": "ipython",
    "version": 3
   },
   "file_extension": ".py",
   "mimetype": "text/x-python",
   "name": "python",
   "nbconvert_exporter": "python",
   "pygments_lexer": "ipython3",
   "version": "3.6.9"
  },
  "orig_nbformat": 4
 },
 "nbformat": 4,
 "nbformat_minor": 2
}
