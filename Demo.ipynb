{
 "cells": [
  {
   "cell_type": "markdown",
   "metadata": {},
   "source": [
    "# This is a demo + test notebook for GraphTranslatorModule"
   ]
  },
  {
   "cell_type": "code",
   "execution_count": null,
   "metadata": {},
   "outputs": [],
   "source": [
    "%load_ext autoreload\n",
    "%autoreload 2"
   ]
  },
  {
   "cell_type": "code",
   "execution_count": null,
   "metadata": {},
   "outputs": [],
   "source": [
    "from GraphTranslatorModule import GraphTranslatorModule\n",
    "from pytorch_lightning import Trainer\n",
    "from pytorch_lightning.loggers import WandbLogger\n",
    "import torch\n",
    "from torch.nn import functional as F\n",
    "from pl_bolts.datasets import DummyDataset\n",
    "import random\n",
    "import numpy as np"
   ]
  },
  {
   "cell_type": "markdown",
   "metadata": {},
   "source": [
    "## A. This section is a primer for LightningModule"
   ]
  },
  {
   "cell_type": "markdown",
   "metadata": {},
   "source": [
    "### This is a lightning module instead of a torch.nn.Module. A LightningModule is equivalent to a pure PyTorch Module except it has added functionality. However, you can use it EXACTLY the same as you would a PyTorch Module."
   ]
  },
  {
   "cell_type": "markdown",
   "metadata": {},
   "source": [
    "net = GraphTranslatorModule()\n",
    "x = torch.randn(1, 1, 3, 3)\n",
    "out = net(x)"
   ]
  },
  {
   "cell_type": "markdown",
   "metadata": {},
   "source": [
    "trainer = Trainer(max_epochs=3)\n",
    "trainer.fit(net, torch.utils.data.DataLoader(DummyDataset((1,3,3),(1,), num_samples=100), num_workers=8))"
   ]
  },
  {
   "cell_type": "markdown",
   "metadata": {},
   "source": [
    "trainer.test(net, torch.utils.data.DataLoader(DummyDataset((1,3,3),(1,), num_samples=10), num_workers=8))"
   ]
  },
  {
   "cell_type": "markdown",
   "metadata": {},
   "source": [
    "## B. Dimension checks for the model functions"
   ]
  },
  {
   "cell_type": "markdown",
   "metadata": {},
   "source": [
    "### Test model with Dummy data"
   ]
  },
  {
   "cell_type": "code",
   "execution_count": null,
   "metadata": {},
   "outputs": [],
   "source": [
    "class DummyClassificationDataset():\n",
    "    def __init__(self, n_nodes, n_len, e_len, c_len, num_samples: int = 100):\n",
    "        self.n_nodes = n_nodes\n",
    "        self.n_len = n_len\n",
    "        self.e_len = e_len\n",
    "        self.c_len = c_len\n",
    "        self.num_samples = num_samples\n",
    "    \n",
    "    def __len__(self):\n",
    "        return self.num_samples\n",
    "\n",
    "    def __getitem__(self, idx: int):\n",
    "        edges = torch.randn(self.n_nodes, self.n_nodes, self.e_len)\n",
    "        nodes = torch.randn(self.n_nodes, self.n_len)\n",
    "        context = torch.randn(self.c_len)\n",
    "        y = torch.randn(self.n_nodes, self.n_nodes, self.e_len)\n",
    "        return (edges.contiguous(), nodes.contiguous(), context.contiguous(), context.contiguous(), y.contiguous())\n",
    "\n",
    "n_nodes = 5\n",
    "n_len = 2\n",
    "e_len = 3\n",
    "c_len = 1\n",
    "model = GraphTranslatorModule(num_nodes=n_nodes, node_feature_len=n_len, edge_feature_len=e_len, context_len=c_len)\n",
    "dataset = DummyClassificationDataset(n_nodes, n_len, e_len, c_len)\n",
    "dl = torch.utils.data.DataLoader(dataset, num_workers=8, batch_size=3)\n",
    "\n",
    "trainer = Trainer(max_epochs=3, log_every_n_steps=1, flush_logs_every_n_steps=1)\n",
    "trainer.fit(model, dl)"
   ]
  },
  {
   "cell_type": "markdown",
   "metadata": {},
   "source": [
    "### Test model with example graph and timestamp data\n",
    "\n",
    "Logging is done with Weights and Biases and can be viewed on the browser at [this link](https://wandb.ai/maithili/GraphTrans)"
   ]
  },
  {
   "cell_type": "code",
   "execution_count": null,
   "metadata": {},
   "outputs": [],
   "source": [
    "from Reader import RoutinesDataset\n",
    "from analyzers import *\n",
    "\n",
    "data = RoutinesDataset(data_path='data/routines_1029/sample.json', classes_path='data/routines_1029/classes.json')\n",
    "\n",
    "logging_analyzers = [MeanLoss(), EdgeTypeLoss(data.get_edge_classes()), ChangedEdgeLoss(), ChangedEdgeWeightedLoss()]\n",
    "\n",
    "model = GraphTranslatorModule(num_nodes=data.n_nodes, \n",
    "                              node_feature_len=data.n_len, \n",
    "                              edge_feature_len=data.e_len, \n",
    "                              context_len=data.c_len, \n",
    "                              train_analyzer=ChangedEdgeWeightedLoss(), \n",
    "                              logging_analyzers=logging_analyzers)\n",
    "\n",
    "\n",
    "wandb_logger = WandbLogger()\n",
    "trainer = Trainer(max_epochs=50, logger=wandb_logger)\n",
    "trainer.fit(model, data.get_train_loader())\n",
    "trainer.test(model, data.get_test_loader())"
   ]
  },
  {
   "cell_type": "code",
   "execution_count": null,
   "metadata": {},
   "outputs": [],
   "source": []
  }
 ],
 "metadata": {
  "interpreter": {
   "hash": "a2494099ad36345242b6da11fc60f3e7f3d87cf26ba237a82612e243f5abafed"
  },
  "kernelspec": {
   "display_name": "Python 3.6.9 64-bit ('.venv': venv)",
   "name": "python3"
  },
  "language_info": {
   "codemirror_mode": {
    "name": "ipython",
    "version": 3
   },
   "file_extension": ".py",
   "mimetype": "text/x-python",
   "name": "python",
   "nbconvert_exporter": "python",
   "pygments_lexer": "ipython3",
   "version": "3.6.9"
  },
  "orig_nbformat": 4
 },
 "nbformat": 4,
 "nbformat_minor": 2
}
